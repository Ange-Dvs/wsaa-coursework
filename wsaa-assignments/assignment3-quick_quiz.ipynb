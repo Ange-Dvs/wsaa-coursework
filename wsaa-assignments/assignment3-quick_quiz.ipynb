{
 "cells": [
  {
   "cell_type": "code",
   "execution_count": 14,
   "metadata": {},
   "outputs": [],
   "source": [
    "import requests"
   ]
  },
  {
   "cell_type": "markdown",
   "metadata": {},
   "source": [
    "## Q1\n",
    "\n",
    "Look at this URL:\n",
    "\n",
    "https://github.com/andrewbeattycourseware/wsaa-course-material\n",
    "\n",
    "What is the resource this URL point to?\n",
    "\n",
    "Answer: /andrewbeattycourseware/wsaa-course-material\n"
   ]
  },
  {
   "cell_type": "markdown",
   "metadata": {},
   "source": [
    "## Q2\n",
    "Look at this URL\n",
    "\n",
    "https://github.com/andrewbeattycourseware/wsaa-course-material\n",
    "\n",
    "What is the host of this URL?\n",
    "\n",
    "Answer: github.com"
   ]
  },
  {
   "cell_type": "markdown",
   "metadata": {},
   "source": [
    "## Q3\n",
    "\n",
    "Look at this URL\n",
    "\n",
    "https://vlegalwaymayo.atu.ie/course/view.php?id=1119\n",
    "\n",
    "What is the parameter name and value in this URL?\n",
    "\n",
    "Answer: parameter name = 'id' and parameter value = '1119'"
   ]
  },
  {
   "cell_type": "markdown",
   "metadata": {},
   "source": [
    "## Q4 \n",
    "What status code should a webserver return if everything is OK (ie the page is served successfully)\n",
    "\n",
    "Answer:200"
   ]
  },
  {
   "cell_type": "markdown",
   "metadata": {},
   "source": [
    "## Q5 \n",
    "What status code would a server return if the client is Unauthorized?\n",
    "\n",
    "Answer: 401"
   ]
  },
  {
   "cell_type": "markdown",
   "metadata": {},
   "source": [
    "## Q6 \n",
    "\n",
    "What status code would a web-server return if the page is not found?\n",
    "\n",
    "Answer: 404\n"
   ]
  },
  {
   "cell_type": "markdown",
   "metadata": {},
   "source": [
    "## Q7  \n",
    "What is the status code that is returned from a GET request sent to\n",
    "\n",
    "https://www.cso.ie/en/index.html\n",
    "\n",
    "(three digit number)\n",
    "\n",
    "There is a lot of content in the page, I just want the status code"
   ]
  },
  {
   "cell_type": "code",
   "execution_count": 15,
   "metadata": {},
   "outputs": [
    {
     "name": "stdout",
     "output_type": "stream",
     "text": [
      "<Response [200]>\n"
     ]
    }
   ],
   "source": [
    "q7_response = requests.get('https://www.cso.ie/en/index.html')\n",
    "print(q7_response)"
   ]
  },
  {
   "cell_type": "markdown",
   "metadata": {},
   "source": [
    "## Q8  \n",
    "What is the 3 digit status code you get back when you send a DELETE request to \n",
    "\n",
    "https://jsonplaceholder.typicode.com/posts/1\n",
    "\n",
    "(3 digits only please)"
   ]
  },
  {
   "cell_type": "code",
   "execution_count": 16,
   "metadata": {},
   "outputs": [
    {
     "name": "stdout",
     "output_type": "stream",
     "text": [
      "<Response [200]>\n"
     ]
    }
   ],
   "source": [
    "q8_response = requests.delete('https://jsonplaceholder.typicode.com/posts/1')\n",
    "print(q8_response)"
   ]
  },
  {
   "cell_type": "markdown",
   "metadata": {},
   "source": [
    "## Q9\n",
    "\n",
    "What is the status code you get back when you make a POST request to\n",
    "\n",
    "https://api.twitter.com/oauth/request_token\n",
    "\n",
    "(3 digits only please)\n",
    "\n",
    "(It will always be twitter to me :) )"
   ]
  },
  {
   "cell_type": "code",
   "execution_count": 17,
   "metadata": {},
   "outputs": [
    {
     "name": "stdout",
     "output_type": "stream",
     "text": [
      "<Response [400]>\n"
     ]
    }
   ],
   "source": [
    "q9_response = requests.post('https://api.twitter.com/oauth/request_token')\n",
    "print(q9_response)"
   ]
  },
  {
   "cell_type": "markdown",
   "metadata": {},
   "source": [
    "## Q10  \n",
    "\n",
    "What is the python code,  to get data from a url (say http://atu.ie)?\n",
    "\n",
    "i.e. what code would go where the the Xs are?\n",
    "\n",
    "import requests\n",
    "page = XXXXXXXXXXXXXXXXXXX"
   ]
  },
  {
   "cell_type": "code",
   "execution_count": 18,
   "metadata": {},
   "outputs": [],
   "source": [
    "page = requests.get('http://atu.ie')"
   ]
  }
 ],
 "metadata": {
  "kernelspec": {
   "display_name": "base",
   "language": "python",
   "name": "python3"
  },
  "language_info": {
   "codemirror_mode": {
    "name": "ipython",
    "version": 3
   },
   "file_extension": ".py",
   "mimetype": "text/x-python",
   "name": "python",
   "nbconvert_exporter": "python",
   "pygments_lexer": "ipython3",
   "version": "3.12.4"
  }
 },
 "nbformat": 4,
 "nbformat_minor": 2
}
