{
 "cells": [
  {
   "cell_type": "markdown",
   "metadata": {},
   "source": [
    "# assignment2-carddraw.ipynb\n",
    "\n",
    "This notebook used an API that simulates dealing a deck of cards to \"deals\" (prints out) 5 cards to the user.   \n",
    "First the deck is shuffled, the deck_id is fetched and used to draw the cards.  \n",
    "The value and the suit of each card is printed for the user.  "
   ]
  },
  {
   "cell_type": "code",
   "execution_count": 6,
   "metadata": {},
   "outputs": [],
   "source": [
    "import requests as rq"
   ]
  },
  {
   "cell_type": "markdown",
   "metadata": {},
   "source": [
    "Shuffling the deck & checking the response"
   ]
  },
  {
   "cell_type": "code",
   "execution_count": 7,
   "metadata": {},
   "outputs": [],
   "source": [
    "deck_count = rq.get('https://deckofcardsapi.com/api/deck/new/shuffle/?deck_count=1')\n",
    "# print(deck_count) # checking response from get request"
   ]
  },
  {
   "cell_type": "markdown",
   "metadata": {},
   "source": [
    "Converting & printing the response received "
   ]
  },
  {
   "cell_type": "code",
   "execution_count": 8,
   "metadata": {},
   "outputs": [
    {
     "name": "stdout",
     "output_type": "stream",
     "text": [
      "Deck ID: figy79wfb45b\n"
     ]
    }
   ],
   "source": [
    "deck_response = deck_count.json() # converting the json response to python dictionary\n",
    "# print (deck_response) # checking response\n",
    "\n",
    "deck_id = deck_response['deck_id'] # sets the deck ID so that it can be referenced to draw cards from the deck\n",
    "print(f'Deck ID: {deck_id}') # checking deck id"
   ]
  },
  {
   "cell_type": "markdown",
   "metadata": {},
   "source": [
    "Drawing the cards"
   ]
  },
  {
   "cell_type": "code",
   "execution_count": 9,
   "metadata": {},
   "outputs": [],
   "source": [
    "no_of_cards = 5 # adding a count so that the number of cards drawn can be easily changed\n",
    "\n",
    "cards = rq.get(f'https://deckofcardsapi.com/api/deck/{deck_id}/draw/?count={no_of_cards}')\n",
    "# print(deck_id) # checking correct deck id has been used\n",
    "\n",
    "cards_response = cards.json()\n",
    "# print(cards_response) # used for checking response of cards\n",
    "\n",
    "# getting the cards object from the response\n",
    "cards_drawn = cards_response['cards']  # 'cards' contains the drawn cards"
   ]
  },
  {
   "cell_type": "markdown",
   "metadata": {},
   "source": [
    "Printing each of the drawn cards"
   ]
  },
  {
   "cell_type": "code",
   "execution_count": 10,
   "metadata": {},
   "outputs": [
    {
     "name": "stdout",
     "output_type": "stream",
     "text": [
      "Card 1 = 7 of CLUBS\n",
      "Card 2 = JACK of CLUBS\n",
      "Card 3 = QUEEN of DIAMONDS\n",
      "Card 4 = 7 of SPADES\n",
      "Card 5 = JACK of SPADES\n"
     ]
    }
   ],
   "source": [
    "for i, card in enumerate(cards_drawn, start=1): # looping through the cards in the cards response\n",
    "        print(f'Card {i} = {card[\"value\"]} of {card['suit']}') # numbering and printing the cards drawn"
   ]
  }
 ],
 "metadata": {
  "kernelspec": {
   "display_name": "base",
   "language": "python",
   "name": "python3"
  },
  "language_info": {
   "codemirror_mode": {
    "name": "ipython",
    "version": 3
   },
   "file_extension": ".py",
   "mimetype": "text/x-python",
   "name": "python",
   "nbconvert_exporter": "python",
   "pygments_lexer": "ipython3",
   "version": "3.12.4"
  }
 },
 "nbformat": 4,
 "nbformat_minor": 2
}
