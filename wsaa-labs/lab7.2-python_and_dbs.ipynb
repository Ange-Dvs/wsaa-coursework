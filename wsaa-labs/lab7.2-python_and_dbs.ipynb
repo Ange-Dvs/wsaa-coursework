{
 "cells": [
  {
   "cell_type": "code",
   "execution_count": null,
   "metadata": {},
   "outputs": [],
   "source": [
    "import mysql.connector  \n",
    "\n",
    "connection = mysql.connector.connect(   \n",
    "    host=\"localhost\",   \n",
    "    user=\"root\",   \n",
    "    password=\"\" )  \n",
    "\n",
    "mycursor = connection.cursor()  \n",
    "mycursor.execute(\"CREATE database wsaa \") \n",
    "mycursor.close() \n",
    "connection.close() "
   ]
  },
  {
   "cell_type": "code",
   "execution_count": null,
   "metadata": {},
   "outputs": [],
   "source": [
    "import mysql.connector  \n",
    "mydb = mysql.connector.connect(   \n",
    "    host=\"localhost\",   \n",
    "    user=\"root\",   \n",
    "    password=\"\",   \n",
    "    database=\"wsaa\" )  \n",
    "\n",
    "mycursor = mydb.cursor() \n",
    "sql=\"CREATE TABLE student (id INT AUTO_INCREMENT PRIMARY KEY, n ame VARCHAR(255), age INT)\"  \n",
    "\n",
    "mycursor.execute(sql)  \n",
    "mycursor.close() \n",
    "connection.close()"
   ]
  },
  {
   "cell_type": "code",
   "execution_count": null,
   "metadata": {},
   "outputs": [],
   "source": [
    "import mysql.connector  \n",
    "db = mysql.connector.connect(   \n",
    "    host=\"localhost\",   \n",
    "    user=\"root\",   \n",
    "    password=\"\",   \n",
    "    database=\"wsaa\" )  \n",
    "\n",
    "cursor = db.cursor() \n",
    "sql=\"insert into student (name, age) values (%s,%s)\" \n",
    "values = (\"Mary\",21)  \n",
    "cursor.execute(sql, values)  \n",
    "db.commit() \n",
    "print(\"1 record inserted, ID:\", cursor.lastrowid) \n",
    "mycursor.close() \n",
    "connection.close() "
   ]
  },
  {
   "cell_type": "code",
   "execution_count": null,
   "metadata": {},
   "outputs": [],
   "source": [
    "import mysql.connector  \n",
    "\n",
    "db = mysql.connector.connect(   \n",
    "    host=\"localhost\",   \n",
    "    user=\"root\",   \n",
    "    password=\"\",   \n",
    "    database=\"wsaa\" )  \n",
    "\n",
    "cursor = db.cursor() \n",
    "sql=\"select * from student where id = %s\" \n",
    "values = (1,)  \n",
    "cursor.execute(sql, values) \n",
    "result = cursor.fetchall() \n",
    "for x in result:   \n",
    "    print(x) \n",
    "    \n",
    "mycursor.close() \n",
    "connection.close() "
   ]
  },
  {
   "cell_type": "code",
   "execution_count": null,
   "metadata": {},
   "outputs": [],
   "source": [
    "import mysql.connector  \n",
    "db = mysql.connector.connect(   \n",
    "    host=\"localhost\",   \n",
    "    user=\"root\",   \n",
    "    password=\"\",  \n",
    "    database=\"wsaa\" \n",
    ")  \n",
    "\n",
    "cursor = db.cursor() \n",
    "sql=\"update student set name= %s, age=%s  where id = %s\" \n",
    "values = (\"Joe\",33, 1)  \n",
    "cursor.execute(sql, values)  \n",
    "db.commit() \n",
    "print(\"update done\") \n",
    "mycursor.close() \n",
    "connection.close() "
   ]
  },
  {
   "cell_type": "code",
   "execution_count": null,
   "metadata": {},
   "outputs": [],
   "source": [
    "import mysql.connector  \n",
    "db = mysql.connector.connect(   \n",
    "    host=\"localhost\",   \n",
    "    user=\"root\",   \n",
    "    password=\"\",  \n",
    "    database=\"wsaa\" \n",
    ")  \n",
    "\n",
    "cursor = db.cursor() \n",
    "sql=\"delete from student where id = %s\" \n",
    "values = (1,)  \n",
    "cursor.execute(sql, values)  \n",
    "db.commit() \n",
    "print(\"delete done\") \n",
    "mycursor.close() \n",
    "connection.close() "
   ]
  }
 ],
 "metadata": {
  "kernelspec": {
   "display_name": "base",
   "language": "python",
   "name": "python3"
  },
  "language_info": {
   "codemirror_mode": {
    "name": "ipython",
    "version": 3
   },
   "file_extension": ".py",
   "mimetype": "text/x-python",
   "name": "python",
   "nbconvert_exporter": "python",
   "pygments_lexer": "ipython3",
   "version": "3.12.4"
  }
 },
 "nbformat": 4,
 "nbformat_minor": 2
}
